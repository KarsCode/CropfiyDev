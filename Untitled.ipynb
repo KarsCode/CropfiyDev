{
 "cells": [
  {
   "cell_type": "code",
   "execution_count": 1,
   "id": "766f085d",
   "metadata": {},
   "outputs": [],
   "source": [
    "import tensorflow as tf\n",
    "import tensorflow_datasets as tfds\n",
    "import numpy as np\n",
    "from tensorflow.keras import layers, models\n",
    "import os\n",
    "import cv2\n",
    "import random\n",
    "import numpy as np"
   ]
  },
  {
   "cell_type": "code",
   "execution_count": 2,
   "id": "299fd43b",
   "metadata": {},
   "outputs": [],
   "source": [
    "data=[]"
   ]
  },
  {
   "cell_type": "code",
   "execution_count": null,
   "id": "30feb6ae",
   "metadata": {},
   "outputs": [],
   "source": [
    "# Fruit.Piercing.Moth Gall.Flies          Locust              Stem.Borer"
   ]
  },
  {
   "cell_type": "code",
   "execution_count": 6,
   "id": "e6017172",
   "metadata": {},
   "outputs": [],
   "source": [
    "folder_path = '/Users/gauravpradeep/pests_dataset/Stem.Borer'\n",
    "for filename in os.listdir(folder_path):\n",
    "    if filename.endswith(('.jpg', '.jpeg', '.png')):\n",
    "        image_path = os.path.join(folder_path, filename)\n",
    "        img = cv2.imread(image_path)\n",
    "        img = cv2.resize(img, (256,256))\n",
    "        data.append([img,3])"
   ]
  },
  {
   "cell_type": "code",
   "execution_count": 7,
   "id": "cd0f8f09",
   "metadata": {},
   "outputs": [
    {
     "data": {
      "text/plain": [
       "1669"
      ]
     },
     "execution_count": 7,
     "metadata": {},
     "output_type": "execute_result"
    }
   ],
   "source": [
    "len(data)"
   ]
  },
  {
   "cell_type": "code",
   "execution_count": 8,
   "id": "31450d62",
   "metadata": {},
   "outputs": [],
   "source": [
    "random.shuffle(data)"
   ]
  },
  {
   "cell_type": "code",
   "execution_count": 9,
   "id": "f273b70e",
   "metadata": {},
   "outputs": [],
   "source": [
    "images=[]\n",
    "labels=[]"
   ]
  },
  {
   "cell_type": "code",
   "execution_count": 10,
   "id": "d267cbfc",
   "metadata": {},
   "outputs": [],
   "source": [
    "images = [element[0] for element in data]\n",
    "labels = [element[1] for element in data]"
   ]
  },
  {
   "cell_type": "code",
   "execution_count": 11,
   "id": "3f39da7b",
   "metadata": {},
   "outputs": [],
   "source": [
    "images=np.array(images)\n",
    "labels=np.array(labels)"
   ]
  },
  {
   "cell_type": "code",
   "execution_count": 12,
   "id": "3350a240",
   "metadata": {},
   "outputs": [],
   "source": [
    "images=images/255"
   ]
  },
  {
   "cell_type": "code",
   "execution_count": 18,
   "id": "dcd5bab0",
   "metadata": {},
   "outputs": [],
   "source": [
    "model = models.Sequential([\n",
    "    layers.Conv2D(filters=128, kernel_size=(3, 3),input_shape=(256,256,3), activation='relu'),\n",
    "    layers.MaxPooling2D((2, 2)), \n",
    "    layers.Conv2D(filters=128, kernel_size=(3, 3), activation='relu'),\n",
    "    layers.MaxPooling2D((2, 2)), \n",
    "    layers.Conv2D(filters=64, kernel_size=(3, 3), activation='relu'),\n",
    "    layers.MaxPooling2D((2, 2)), \n",
    "    layers.Conv2D(filters=64, kernel_size=(3, 3), activation='relu'),\n",
    "    layers.MaxPooling2D((2, 2)),\n",
    "    layers.Conv2D(filters=32, kernel_size=(3, 3), activation='relu'),\n",
    "    layers.MaxPooling2D((2, 2)), \n",
    "    layers.Conv2D(filters=32, kernel_size=(3, 3), activation='relu'),\n",
    "    layers.MaxPooling2D((2, 2)),\n",
    "    layers.Flatten(),\n",
    "    layers.Dense(64, activation='relu'),\n",
    "    layers.Dense(32, activation='relu'),\n",
    "    layers.Dense(16, activation='relu'),\n",
    "    layers.Dense(4, activation='softmax')\n",
    "])"
   ]
  },
  {
   "cell_type": "code",
   "execution_count": 19,
   "id": "8fb0dd41",
   "metadata": {},
   "outputs": [
    {
     "name": "stdout",
     "output_type": "stream",
     "text": [
      "Model: \"sequential_1\"\n",
      "_________________________________________________________________\n",
      " Layer (type)                Output Shape              Param #   \n",
      "=================================================================\n",
      " conv2d_6 (Conv2D)           (None, 254, 254, 128)     3584      \n",
      "                                                                 \n",
      " max_pooling2d_6 (MaxPooling  (None, 127, 127, 128)    0         \n",
      " 2D)                                                             \n",
      "                                                                 \n",
      " conv2d_7 (Conv2D)           (None, 125, 125, 128)     147584    \n",
      "                                                                 \n",
      " max_pooling2d_7 (MaxPooling  (None, 62, 62, 128)      0         \n",
      " 2D)                                                             \n",
      "                                                                 \n",
      " conv2d_8 (Conv2D)           (None, 60, 60, 64)        73792     \n",
      "                                                                 \n",
      " max_pooling2d_8 (MaxPooling  (None, 30, 30, 64)       0         \n",
      " 2D)                                                             \n",
      "                                                                 \n",
      " conv2d_9 (Conv2D)           (None, 28, 28, 64)        36928     \n",
      "                                                                 \n",
      " max_pooling2d_9 (MaxPooling  (None, 14, 14, 64)       0         \n",
      " 2D)                                                             \n",
      "                                                                 \n",
      " conv2d_10 (Conv2D)          (None, 12, 12, 32)        18464     \n",
      "                                                                 \n",
      " max_pooling2d_10 (MaxPoolin  (None, 6, 6, 32)         0         \n",
      " g2D)                                                            \n",
      "                                                                 \n",
      " conv2d_11 (Conv2D)          (None, 4, 4, 32)          9248      \n",
      "                                                                 \n",
      " max_pooling2d_11 (MaxPoolin  (None, 2, 2, 32)         0         \n",
      " g2D)                                                            \n",
      "                                                                 \n",
      " flatten_1 (Flatten)         (None, 128)               0         \n",
      "                                                                 \n",
      " dense_4 (Dense)             (None, 64)                8256      \n",
      "                                                                 \n",
      " dense_5 (Dense)             (None, 32)                2080      \n",
      "                                                                 \n",
      " dense_6 (Dense)             (None, 16)                528       \n",
      "                                                                 \n",
      " dense_7 (Dense)             (None, 4)                 68        \n",
      "                                                                 \n",
      "=================================================================\n",
      "Total params: 300,532\n",
      "Trainable params: 300,532\n",
      "Non-trainable params: 0\n",
      "_________________________________________________________________\n"
     ]
    }
   ],
   "source": [
    "model.summary()"
   ]
  },
  {
   "cell_type": "code",
   "execution_count": 20,
   "id": "6dfe5199",
   "metadata": {},
   "outputs": [],
   "source": [
    "model.compile(optimizer='adam', loss='sparse_categorical_crossentropy', metrics=['accuracy'])"
   ]
  },
  {
   "cell_type": "code",
   "execution_count": null,
   "id": "5223f608",
   "metadata": {},
   "outputs": [
    {
     "name": "stdout",
     "output_type": "stream",
     "text": [
      "Epoch 1/50\n",
      "53/53 [==============================] - 270s 5s/step - loss: 1.1151 - accuracy: 0.5261\n",
      "Epoch 2/50\n",
      "53/53 [==============================] - 264s 5s/step - loss: 1.1097 - accuracy: 0.5165\n",
      "Epoch 3/50\n",
      "53/53 [==============================] - 284s 5s/step - loss: 1.0505 - accuracy: 0.5446\n",
      "Epoch 4/50\n",
      "53/53 [==============================] - 274s 5s/step - loss: 0.9795 - accuracy: 0.5992\n",
      "Epoch 5/50\n",
      "53/53 [==============================] - 292s 6s/step - loss: 0.9329 - accuracy: 0.6034\n",
      "Epoch 6/50\n",
      "53/53 [==============================] - 279s 5s/step - loss: 0.8897 - accuracy: 0.6375\n",
      "Epoch 7/50\n",
      "53/53 [==============================] - 273s 5s/step - loss: 0.8248 - accuracy: 0.6573\n",
      "Epoch 8/50\n",
      "53/53 [==============================] - 260s 5s/step - loss: 0.7850 - accuracy: 0.6794\n",
      "Epoch 9/50\n",
      "53/53 [==============================] - 262s 5s/step - loss: 0.7186 - accuracy: 0.7106\n",
      "Epoch 10/50\n",
      "53/53 [==============================] - 262s 5s/step - loss: 0.6686 - accuracy: 0.7364\n",
      "Epoch 11/50\n",
      "53/53 [==============================] - 262s 5s/step - loss: 0.6171 - accuracy: 0.7591\n",
      "Epoch 12/50\n",
      "53/53 [==============================] - 265s 5s/step - loss: 0.5507 - accuracy: 0.7831\n",
      "Epoch 13/50\n",
      "53/53 [==============================] - 270s 5s/step - loss: 0.4580 - accuracy: 0.8203\n",
      "Epoch 14/50\n",
      "53/53 [==============================] - 270s 5s/step - loss: 0.4656 - accuracy: 0.8191\n",
      "Epoch 15/50\n",
      "53/53 [==============================] - 263s 5s/step - loss: 0.4468 - accuracy: 0.8173\n",
      "Epoch 16/50\n",
      "53/53 [==============================] - 272s 5s/step - loss: 0.4048 - accuracy: 0.8472\n",
      "Epoch 17/50\n",
      "53/53 [==============================] - 273s 5s/step - loss: 0.7363 - accuracy: 0.7178\n",
      "Epoch 18/50\n",
      " 7/53 [==>...........................] - ETA: 3:56 - loss: 0.4910 - accuracy: 0.8348"
     ]
    }
   ],
   "source": [
    "model.fit(images,labels,epochs=50,batch_size=32)"
   ]
  },
  {
   "cell_type": "code",
   "execution_count": null,
   "id": "7595fcbd",
   "metadata": {},
   "outputs": [],
   "source": [
    "model.save('pretrained_weights/pest_detection.h5')"
   ]
  }
 ],
 "metadata": {
  "kernelspec": {
   "display_name": "Python 3 (ipykernel)",
   "language": "python",
   "name": "python3"
  },
  "language_info": {
   "codemirror_mode": {
    "name": "ipython",
    "version": 3
   },
   "file_extension": ".py",
   "mimetype": "text/x-python",
   "name": "python",
   "nbconvert_exporter": "python",
   "pygments_lexer": "ipython3",
   "version": "3.9.6"
  }
 },
 "nbformat": 4,
 "nbformat_minor": 5
}
